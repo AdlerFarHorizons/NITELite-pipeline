{
 "cells": [
  {
   "cell_type": "markdown",
   "metadata": {},
   "source": [
    "# Setup"
   ]
  },
  {
   "cell_type": "code",
   "execution_count": null,
   "metadata": {},
   "outputs": [],
   "source": [
    "config = {\n",
    "    'n_col_metadata': 50, # FH135 has 46 columns\n",
    "    'n_images': 3e4, # FH135 has 33783 images\n",
    "    'raw_to_tiff_ratio': 5,\n",
    "    'raw_image_size': 4.4e-3,\n",
    "    'tiff_image_size': 13e-3,\n",
    "    'n_referenced_images': 2e4,\n",
    "    'default_byte_size': 4,\n",
    "    'units': ('GB', 1024**3),\n",
    "    'disk_to_ram_ratio': 10, # Conservative numbers are higher\n",
    "    'n_flights': 20, # Currently there are six flights\n",
    "    'processing_speed': 5e-3, # In GB/s. This is probably a conservative estimate.\n",
    "    'n_full_metadata_queries_per_week': 100, # Should be conservative again\n",
    "    'n_full_image_queries_per_week': 5,\n",
    "    'minimum_processing_time': 60., # Assume no query uses less than this time in seconds\n",
    "}"
   ]
  },
  {
   "cell_type": "markdown",
   "metadata": {},
   "source": [
    "## Requirements Estimation"
   ]
  },
  {
   "cell_type": "markdown",
   "metadata": {},
   "source": [
    "### Images"
   ]
  },
  {
   "cell_type": "code",
   "execution_count": null,
   "metadata": {},
   "outputs": [],
   "source": [
    "# Per flight reqs\n",
    "n_tiff = config['n_images'] / (1. + config['raw_to_tiff_ratio'])\n",
    "n_raw = config['n_images'] - n_tiff\n",
    "images_volume = config['tiff_image_size'] * n_tiff + \\\n",
    "    config['raw_image_size'] * n_raw\n",
    "images_volume"
   ]
  },
  {
   "cell_type": "code",
   "execution_count": null,
   "metadata": {},
   "outputs": [],
   "source": [
    "total_image_volume = images_volume * config['n_flights']"
   ]
  },
  {
   "cell_type": "code",
   "execution_count": null,
   "metadata": {},
   "outputs": [],
   "source": [
    "# Total metadata cpu usage assuming every query retrieves all the metadata\n",
    "image_time_estimate = (\n",
    "    (\n",
    "        # Time to process all the metadata\n",
    "        total_image_volume\n",
    "        / config['processing_speed']\n",
    "        + config['minimum_processing_time']\n",
    "    )\n",
    "    * config['n_full_image_queries_per_week']\n",
    "    / 3600. # Convert seconds to hours\n",
    ")"
   ]
  },
  {
   "cell_type": "markdown",
   "metadata": {},
   "source": [
    "### Metadata"
   ]
  },
  {
   "cell_type": "code",
   "execution_count": null,
   "metadata": {},
   "outputs": [],
   "source": [
    "# Per flight reqs\n",
    "table_size = (\n",
    "    config['n_col_metadata'] * config['n_referenced_images'] \n",
    "    * config['default_byte_size'] / config['units'][1]\n",
    ")\n",
    "table_size"
   ]
  },
  {
   "cell_type": "code",
   "execution_count": null,
   "metadata": {},
   "outputs": [],
   "source": [
    "total_metadata_volume = table_size * config['n_flights']\n",
    "metadata_ram = total_metadata_volume * config['disk_to_ram_ratio']"
   ]
  },
  {
   "cell_type": "code",
   "execution_count": null,
   "metadata": {},
   "outputs": [],
   "source": [
    "# Total metadata cpu usage assuming every query retrieves all the metadata\n",
    "metadata_time_estimate = (\n",
    "    (\n",
    "        # Time to process all the metadata\n",
    "        total_metadata_volume\n",
    "        / config['processing_speed']\n",
    "        + config['minimum_processing_time']\n",
    "    )\n",
    "    * config['n_full_metadata_queries_per_week']\n",
    "    / 3600. # Convert seconds to hours\n",
    ")"
   ]
  },
  {
   "cell_type": "markdown",
   "metadata": {},
   "source": [
    "### Summarize Requirements"
   ]
  },
  {
   "cell_type": "code",
   "execution_count": null,
   "metadata": {},
   "outputs": [],
   "source": [
    "print(\n",
    "f'''Required volume for images: {total_image_volume:.2g} {config['units'][0]}\n",
    "Images usage estimate: {image_time_estimate:.3g} hrs/week\n",
    "\n",
    "Required volume for metadata: {total_metadata_volume:.2g} {config['units'][0]}\n",
    "Required RAM for metadata: {metadata_ram:.2g} {config['units'][0]}\n",
    "Metadata usage estimate: {metadata_time_estimate:.2g} hrs/week\n",
    "'''\n",
    ")"
   ]
  },
  {
   "cell_type": "markdown",
   "metadata": {},
   "source": [
    "## Solutions"
   ]
  },
  {
   "cell_type": "markdown",
   "metadata": {},
   "source": []
  }
 ],
 "metadata": {
  "kernelspec": {
   "display_name": "nitelite-pipeline-conda",
   "language": "python",
   "name": "python3"
  },
  "language_info": {
   "codemirror_mode": {
    "name": "ipython",
    "version": 3
   },
   "file_extension": ".py",
   "mimetype": "text/x-python",
   "name": "python",
   "nbconvert_exporter": "python",
   "pygments_lexer": "ipython3",
   "version": "3.12.2"
  }
 },
 "nbformat": 4,
 "nbformat_minor": 2
}
