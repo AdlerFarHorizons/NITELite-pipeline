{
 "cells": [
  {
   "cell_type": "markdown",
   "metadata": {},
   "source": [
    "# Setup"
   ]
  },
  {
   "cell_type": "code",
   "execution_count": 1,
   "metadata": {},
   "outputs": [],
   "source": [
    "config = {\n",
    "    'n_col_metadata': 50, # FH135 has 46 columns\n",
    "    'n_images': 3e4, # FH135 has 33783 images\n",
    "    'raw_to_tiff_ratio': 5,\n",
    "    'raw_image_size': 4.4e-3,\n",
    "    'tiff_image_size': 13e-3,\n",
    "    'n_referenced_images': 2e4,\n",
    "    'default_byte_size': 4,\n",
    "    'units': ('GB', 1024**3),\n",
    "    'disk_to_ram_ratio': 10, # Conservative numbers are higher\n",
    "    'n_flights': 20, # Currently there are six flights\n",
    "}"
   ]
  },
  {
   "cell_type": "markdown",
   "metadata": {},
   "source": [
    "## Requirements Estimation"
   ]
  },
  {
   "cell_type": "markdown",
   "metadata": {},
   "source": [
    "### Images"
   ]
  },
  {
   "cell_type": "code",
   "execution_count": 2,
   "metadata": {},
   "outputs": [
    {
     "data": {
      "text/plain": [
       "175.0"
      ]
     },
     "execution_count": 2,
     "metadata": {},
     "output_type": "execute_result"
    }
   ],
   "source": [
    "# Per flight reqs\n",
    "n_tiff = config['n_images'] / (1. + config['raw_to_tiff_ratio'])\n",
    "n_raw = config['n_images'] - n_tiff\n",
    "images_volume = config['tiff_image_size'] * n_tiff + \\\n",
    "    config['raw_image_size'] * n_raw\n",
    "images_volume"
   ]
  },
  {
   "cell_type": "code",
   "execution_count": 3,
   "metadata": {},
   "outputs": [],
   "source": [
    "total_image_volume = images_volume * config['n_flights']"
   ]
  },
  {
   "cell_type": "markdown",
   "metadata": {},
   "source": [
    "### Metadata"
   ]
  },
  {
   "cell_type": "code",
   "execution_count": 4,
   "metadata": {},
   "outputs": [
    {
     "data": {
      "text/plain": [
       "0.003725290298461914"
      ]
     },
     "execution_count": 4,
     "metadata": {},
     "output_type": "execute_result"
    }
   ],
   "source": [
    "# Per flight reqs\n",
    "table_size = (\n",
    "    config['n_col_metadata'] * config['n_referenced_images'] \n",
    "    * config['default_byte_size'] / config['units'][1]\n",
    ")\n",
    "table_size"
   ]
  },
  {
   "cell_type": "code",
   "execution_count": 5,
   "metadata": {},
   "outputs": [],
   "source": [
    "total_metadata_volume = table_size * config['n_flights']\n",
    "metadata_ram = total_metadata_volume * config['disk_to_ram_ratio']"
   ]
  },
  {
   "cell_type": "markdown",
   "metadata": {},
   "source": [
    "### Summarize Requirements"
   ]
  },
  {
   "cell_type": "code",
   "execution_count": 9,
   "metadata": {},
   "outputs": [
    {
     "name": "stdout",
     "output_type": "stream",
     "text": [
      "Required volume for images: 3.5e+03 GB\n",
      "Required volume for metadata: 0.075 GB\n",
      "Required RAM for metadata: 0.75 GB\n"
     ]
    }
   ],
   "source": [
    "print(\n",
    "f'''Required volume for images: {total_image_volume:.2g} {config['units'][0]}\n",
    "Required volume for metadata: {total_metadata_volume:.2g} {config['units'][0]}\n",
    "Required RAM for metadata: {metadata_ram:.2g} {config['units'][0]}'''\n",
    ")"
   ]
  },
  {
   "cell_type": "markdown",
   "metadata": {},
   "source": []
  }
 ],
 "metadata": {
  "kernelspec": {
   "display_name": "nitelite-pipeline-conda",
   "language": "python",
   "name": "python3"
  },
  "language_info": {
   "codemirror_mode": {
    "name": "ipython",
    "version": 3
   },
   "file_extension": ".py",
   "mimetype": "text/x-python",
   "name": "python",
   "nbconvert_exporter": "python",
   "pygments_lexer": "ipython3",
   "version": "3.12.2"
  }
 },
 "nbformat": 4,
 "nbformat_minor": 2
}
